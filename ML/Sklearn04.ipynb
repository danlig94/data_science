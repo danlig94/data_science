{
  "nbformat": 4,
  "nbformat_minor": 0,
  "metadata": {
    "colab": {
      "name": "Sklearn04.ipynb",
      "provenance": [],
      "collapsed_sections": [],
      "authorship_tag": "ABX9TyO51eqJyvsdozI4RmHwGBU6",
      "include_colab_link": true
    },
    "kernelspec": {
      "name": "python3",
      "display_name": "Python 3"
    }
  },
  "cells": [
    {
      "cell_type": "markdown",
      "metadata": {
        "id": "view-in-github",
        "colab_type": "text"
      },
      "source": [
        "<a href=\"https://colab.research.google.com/github/danlig94/data_science/blob/master/ML/Sklearn04.ipynb\" target=\"_parent\"><img src=\"https://colab.research.google.com/assets/colab-badge.svg\" alt=\"Open In Colab\"/></a>"
      ]
    },
    {
      "cell_type": "code",
      "metadata": {
        "id": "_-ZkipzbjDhW",
        "colab_type": "code",
        "colab": {}
      },
      "source": [
        "import sklearn\n",
        "import numpy as np\n",
        "import matplotlib.pyplot as plt\n",
        "import seaborn as sns\n",
        "sns.set()"
      ],
      "execution_count": 3,
      "outputs": []
    },
    {
      "cell_type": "code",
      "metadata": {
        "id": "1ixCDkB6jHzW",
        "colab_type": "code",
        "colab": {
          "base_uri": "https://localhost:8080/",
          "height": 286
        },
        "outputId": "2f6e779a-5522-4c35-caff-d68f4060fb53"
      },
      "source": [
        "np.random.seed(0)\n",
        "x = np.arange(-10, 10, 0.5)\n",
        "noise = 80 * np.random.randn(40)\n",
        "y = -x**3 + 10*x**2 - 2*x + 3 + noise\n",
        "x = x.reshape(-1, 1)\n",
        "plt.scatter(x, y)"
      ],
      "execution_count": 7,
      "outputs": [
        {
          "output_type": "execute_result",
          "data": {
            "text/plain": [
              "<matplotlib.collections.PathCollection at 0x7f268952e0f0>"
            ]
          },
          "metadata": {
            "tags": []
          },
          "execution_count": 7
        },
        {
          "output_type": "display_data",
          "data": {
            "image/png": "[encoded data removed]",
            "text/plain": [
              "<Figure size 432x288 with 1 Axes>"
            ]
          },
          "metadata": {
            "tags": []
          }
        }
      ]
    },
    {
      "cell_type": "code",
      "metadata": {
        "id": "fHd4cY2WjdXC",
        "colab_type": "code",
        "colab": {
          "base_uri": "https://localhost:8080/",
          "height": 286
        },
        "outputId": "a623f16a-b642-4db3-f3fc-4d2a9d0b9433"
      },
      "source": [
        "from sklearn.linear_model import LinearRegression\n",
        "\n",
        "regresor = LinearRegression()\n",
        "regresor.fit(x, y)\n",
        "y_pred = regresor.predict(x)\n",
        "plt.scatter(x,y)\n",
        "plt.plot(x, y_pred, c='r')"
      ],
      "execution_count": 8,
      "outputs": [
        {
          "output_type": "execute_result",
          "data": {
            "text/plain": [
              "[<matplotlib.lines.Line2D at 0x7f2686a36a58>]"
            ]
          },
          "metadata": {
            "tags": []
          },
          "execution_count": 8
        },
        {
          "output_type": "display_data",
          "data": {
            "image/png": "[encoded data removed]",
            "text/plain": [
              "<Figure size 432x288 with 1 Axes>"
            ]
          },
          "metadata": {
            "tags": []
          }
        }
      ]
    },
    {
      "cell_type": "code",
      "metadata": {
        "id": "rYRG91Bxk2iC",
        "colab_type": "code",
        "colab": {
          "base_uri": "https://localhost:8080/",
          "height": 35
        },
        "outputId": "19d9dca7-3c45-4042-b022-4d72a60d0a22"
      },
      "source": [
        "from sklearn.metrics import r2_score\n",
        "\n",
        "r2_score(y, y_pred)"
      ],
      "execution_count": 9,
      "outputs": [
        {
          "output_type": "execute_result",
          "data": {
            "text/plain": [
              "0.5398062344255777"
            ]
          },
          "metadata": {
            "tags": []
          },
          "execution_count": 9
        }
      ]
    },
    {
      "cell_type": "code",
      "metadata": {
        "id": "25NAwoO-lMuj",
        "colab_type": "code",
        "colab": {
          "base_uri": "https://localhost:8080/",
          "height": 752
        },
        "outputId": "55ab59f1-c05b-476a-f726-0499878591b8"
      },
      "source": [
        "from sklearn.preprocessing import PolynomialFeatures\n",
        "\n",
        "poly = PolynomialFeatures(degree=2)\n",
        "x_poly = poly.fit_transform(x)\n",
        "x_poly"
      ],
      "execution_count": 10,
      "outputs": [
        {
          "output_type": "execute_result",
          "data": {
            "text/plain": [
              "array([[  1.  , -10.  , 100.  ],\n",
              "       [  1.  ,  -9.5 ,  90.25],\n",
              "       [  1.  ,  -9.  ,  81.  ],\n",
              "       [  1.  ,  -8.5 ,  72.25],\n",
              "       [  1.  ,  -8.  ,  64.  ],\n",
              "       [  1.  ,  -7.5 ,  56.25],\n",
              "       [  1.  ,  -7.  ,  49.  ],\n",
              "       [  1.  ,  -6.5 ,  42.25],\n",
              "       [  1.  ,  -6.  ,  36.  ],\n",
              "       [  1.  ,  -5.5 ,  30.25],\n",
              "       [  1.  ,  -5.  ,  25.  ],\n",
              "       [  1.  ,  -4.5 ,  20.25],\n",
              "       [  1.  ,  -4.  ,  16.  ],\n",
              "       [  1.  ,  -3.5 ,  12.25],\n",
              "       [  1.  ,  -3.  ,   9.  ],\n",
              "       [  1.  ,  -2.5 ,   6.25],\n",
              "       [  1.  ,  -2.  ,   4.  ],\n",
              "       [  1.  ,  -1.5 ,   2.25],\n",
              "       [  1.  ,  -1.  ,   1.  ],\n",
              "       [  1.  ,  -0.5 ,   0.25],\n",
              "       [  1.  ,   0.  ,   0.  ],\n",
              "       [  1.  ,   0.5 ,   0.25],\n",
              "       [  1.  ,   1.  ,   1.  ],\n",
              "       [  1.  ,   1.5 ,   2.25],\n",
              "       [  1.  ,   2.  ,   4.  ],\n",
              "       [  1.  ,   2.5 ,   6.25],\n",
              "       [  1.  ,   3.  ,   9.  ],\n",
              "       [  1.  ,   3.5 ,  12.25],\n",
              "       [  1.  ,   4.  ,  16.  ],\n",
              "       [  1.  ,   4.5 ,  20.25],\n",
              "       [  1.  ,   5.  ,  25.  ],\n",
              "       [  1.  ,   5.5 ,  30.25],\n",
              "       [  1.  ,   6.  ,  36.  ],\n",
              "       [  1.  ,   6.5 ,  42.25],\n",
              "       [  1.  ,   7.  ,  49.  ],\n",
              "       [  1.  ,   7.5 ,  56.25],\n",
              "       [  1.  ,   8.  ,  64.  ],\n",
              "       [  1.  ,   8.5 ,  72.25],\n",
              "       [  1.  ,   9.  ,  81.  ],\n",
              "       [  1.  ,   9.5 ,  90.25]])"
            ]
          },
          "metadata": {
            "tags": []
          },
          "execution_count": 10
        }
      ]
    },
    {
      "cell_type": "code",
      "metadata": {
        "id": "sw3KOPfqlT3d",
        "colab_type": "code",
        "colab": {
          "base_uri": "https://localhost:8080/",
          "height": 286
        },
        "outputId": "f78deeea-161d-473b-b455-7c7e5f406c22"
      },
      "source": [
        "regresor_poly = LinearRegression()\n",
        "regresor_poly.fit(x_poly, y)\n",
        "y_pred = regresor_poly.predict(x_poly)\n",
        "plt.scatter(x, y)\n",
        "plt.plot(x, y_pred, c='red')"
      ],
      "execution_count": 12,
      "outputs": [
        {
          "output_type": "execute_result",
          "data": {
            "text/plain": [
              "[<matplotlib.lines.Line2D at 0x7f267eed2c18>]"
            ]
          },
          "metadata": {
            "tags": []
          },
          "execution_count": 12
        },
        {
          "output_type": "display_data",
          "data": {
            "image/png": "[encoded data removed]",
            "text/plain": [
              "<Figure size 432x288 with 1 Axes>"
            ]
          },
          "metadata": {
            "tags": []
          }
        }
      ]
    },
    {
      "cell_type": "code",
      "metadata": {
        "id": "si_t_v7llvJG",
        "colab_type": "code",
        "colab": {
          "base_uri": "https://localhost:8080/",
          "height": 35
        },
        "outputId": "7c696686-21af-41c3-e296-eae631b7766d"
      },
      "source": [
        "r2_score(y, y_pred)"
      ],
      "execution_count": 13,
      "outputs": [
        {
          "output_type": "execute_result",
          "data": {
            "text/plain": [
              "0.9000601519884677"
            ]
          },
          "metadata": {
            "tags": []
          },
          "execution_count": 13
        }
      ]
    },
    {
      "cell_type": "code",
      "metadata": {
        "id": "hOkD0WjsnSAo",
        "colab_type": "code",
        "colab": {
          "base_uri": "https://localhost:8080/",
          "height": 752
        },
        "outputId": "a54317e5-5fbd-4b4f-c8df-5d2ee298119d"
      },
      "source": [
        "np.set_printoptions(suppress=True)\n",
        "poly = PolynomialFeatures(degree=3)\n",
        "x_poly = poly.fit_transform(x)\n",
        "x_poly"
      ],
      "execution_count": 16,
      "outputs": [
        {
          "output_type": "execute_result",
          "data": {
            "text/plain": [
              "array([[    1.   ,   -10.   ,   100.   , -1000.   ],\n",
              "       [    1.   ,    -9.5  ,    90.25 ,  -857.375],\n",
              "       [    1.   ,    -9.   ,    81.   ,  -729.   ],\n",
              "       [    1.   ,    -8.5  ,    72.25 ,  -614.125],\n",
              "       [    1.   ,    -8.   ,    64.   ,  -512.   ],\n",
              "       [    1.   ,    -7.5  ,    56.25 ,  -421.875],\n",
              "       [    1.   ,    -7.   ,    49.   ,  -343.   ],\n",
              "       [    1.   ,    -6.5  ,    42.25 ,  -274.625],\n",
              "       [    1.   ,    -6.   ,    36.   ,  -216.   ],\n",
              "       [    1.   ,    -5.5  ,    30.25 ,  -166.375],\n",
              "       [    1.   ,    -5.   ,    25.   ,  -125.   ],\n",
              "       [    1.   ,    -4.5  ,    20.25 ,   -91.125],\n",
              "       [    1.   ,    -4.   ,    16.   ,   -64.   ],\n",
              "       [    1.   ,    -3.5  ,    12.25 ,   -42.875],\n",
              "       [    1.   ,    -3.   ,     9.   ,   -27.   ],\n",
              "       [    1.   ,    -2.5  ,     6.25 ,   -15.625],\n",
              "       [    1.   ,    -2.   ,     4.   ,    -8.   ],\n",
              "       [    1.   ,    -1.5  ,     2.25 ,    -3.375],\n",
              "       [    1.   ,    -1.   ,     1.   ,    -1.   ],\n",
              "       [    1.   ,    -0.5  ,     0.25 ,    -0.125],\n",
              "       [    1.   ,     0.   ,     0.   ,     0.   ],\n",
              "       [    1.   ,     0.5  ,     0.25 ,     0.125],\n",
              "       [    1.   ,     1.   ,     1.   ,     1.   ],\n",
              "       [    1.   ,     1.5  ,     2.25 ,     3.375],\n",
              "       [    1.   ,     2.   ,     4.   ,     8.   ],\n",
              "       [    1.   ,     2.5  ,     6.25 ,    15.625],\n",
              "       [    1.   ,     3.   ,     9.   ,    27.   ],\n",
              "       [    1.   ,     3.5  ,    12.25 ,    42.875],\n",
              "       [    1.   ,     4.   ,    16.   ,    64.   ],\n",
              "       [    1.   ,     4.5  ,    20.25 ,    91.125],\n",
              "       [    1.   ,     5.   ,    25.   ,   125.   ],\n",
              "       [    1.   ,     5.5  ,    30.25 ,   166.375],\n",
              "       [    1.   ,     6.   ,    36.   ,   216.   ],\n",
              "       [    1.   ,     6.5  ,    42.25 ,   274.625],\n",
              "       [    1.   ,     7.   ,    49.   ,   343.   ],\n",
              "       [    1.   ,     7.5  ,    56.25 ,   421.875],\n",
              "       [    1.   ,     8.   ,    64.   ,   512.   ],\n",
              "       [    1.   ,     8.5  ,    72.25 ,   614.125],\n",
              "       [    1.   ,     9.   ,    81.   ,   729.   ],\n",
              "       [    1.   ,     9.5  ,    90.25 ,   857.375]])"
            ]
          },
          "metadata": {
            "tags": []
          },
          "execution_count": 16
        }
      ]
    },
    {
      "cell_type": "code",
      "metadata": {
        "id": "zdQZsBOUntxS",
        "colab_type": "code",
        "colab": {
          "base_uri": "https://localhost:8080/",
          "height": 286
        },
        "outputId": "099bca94-1874-43a7-bee7-0d3a6a04fc23"
      },
      "source": [
        "regresor_poly_3 = LinearRegression()\n",
        "regresor_poly_3.fit(x_poly, y)\n",
        "y_pred = regresor_poly_3.predict(x_poly)\n",
        "plt.scatter(x, y)\n",
        "plt.plot(x, y_pred, c='red')"
      ],
      "execution_count": 19,
      "outputs": [
        {
          "output_type": "execute_result",
          "data": {
            "text/plain": [
              "[<matplotlib.lines.Line2D at 0x7f267ed38c18>]"
            ]
          },
          "metadata": {
            "tags": []
          },
          "execution_count": 19
        },
        {
          "output_type": "display_data",
          "data": {
            "image/png": "[encoded data removed]",
            "text/plain": [
              "<Figure size 432x288 with 1 Axes>"
            ]
          },
          "metadata": {
            "tags": []
          }
        }
      ]
    },
    {
      "cell_type": "code",
      "metadata": {
        "id": "OnqXiwaToh3E",
        "colab_type": "code",
        "colab": {
          "base_uri": "https://localhost:8080/",
          "height": 286
        },
        "outputId": "ea8cb9cc-c5ae-4986-f0ba-2c7bef22a17e"
      },
      "source": [
        "poly = PolynomialFeatures(degree=4)\n",
        "x_poly = poly.fit_transform(x)\n",
        "regresor_poly_4 = LinearRegression()\n",
        "regresor_poly_4.fit(x_poly, y)\n",
        "y_pred = regresor_poly_4.predict(x_poly)\n",
        "plt.scatter(x, y)\n",
        "plt.plot(x, y_pred, c='red')"
      ],
      "execution_count": 31,
      "outputs": [
        {
          "output_type": "execute_result",
          "data": {
            "text/plain": [
              "[<matplotlib.lines.Line2D at 0x7f267e9bdc50>]"
            ]
          },
          "metadata": {
            "tags": []
          },
          "execution_count": 31
        },
        {
          "output_type": "display_data",
          "data": {
            "image/png": "[encoded data removed]",
            "text/plain": [
              "<Figure size 432x288 with 1 Axes>"
            ]
          },
          "metadata": {
            "tags": []
          }
        }
      ]
    },
    {
      "cell_type": "code",
      "metadata": {
        "id": "EbtEi5lTo6zX",
        "colab_type": "code",
        "colab": {}
      },
      "source": [
        ""
      ],
      "execution_count": null,
      "outputs": []
    }
  ]
}