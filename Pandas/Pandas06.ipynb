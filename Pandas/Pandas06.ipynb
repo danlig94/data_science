{
  "nbformat": 4,
  "nbformat_minor": 0,
  "metadata": {
    "colab": {
      "name": "Pandas06.ipynb",
      "provenance": [],
      "collapsed_sections": [],
      "authorship_tag": "ABX9TyMAEvTU746i1+NiJcPjUQsj",
      "include_colab_link": true
    },
    "kernelspec": {
      "name": "python3",
      "display_name": "Python 3"
    }
  },
  "cells": [
    {
      "cell_type": "markdown",
      "metadata": {
        "id": "view-in-github",
        "colab_type": "text"
      },
      "source": [
        "<a href=\"https://colab.research.google.com/github/danlig94/data_science/blob/master/Pandas/Pandas06.ipynb\" target=\"_parent\"><img src=\"https://colab.research.google.com/assets/colab-badge.svg\" alt=\"Open In Colab\"/></a>"
      ]
    },
    {
      "cell_type": "code",
      "metadata": {
        "id": "1l-MpRpRKmWI",
        "colab_type": "code",
        "colab": {}
      },
      "source": [
        "import pandas as pd"
      ],
      "execution_count": 88,
      "outputs": []
    },
    {
      "cell_type": "code",
      "metadata": {
        "id": "bdhNlhg7Kp4V",
        "colab_type": "code",
        "colab": {
          "base_uri": "https://localhost:8080/",
          "height": 519
        },
        "outputId": "56bcc93c-c1ae-403b-9e55-f11321479c22"
      },
      "source": [
        "url = 'https://storage.googleapis.com/esmartdata-courses-files/ds-bootcamp/appstore_games.csv'\n",
        "df_raw = pd.read_csv(url)\n",
        "df_raw.head()"
      ],
      "execution_count": 89,
      "outputs": [
        {
          "output_type": "execute_result",
          "data": {
            "text/html": [
              "<div>\n",
              "<style scoped>\n",
              "    .dataframe tbody tr th:only-of-type {\n",
              "        vertical-align: middle;\n",
              "    }\n",
              "\n",
              "    .dataframe tbody tr th {\n",
              "        vertical-align: top;\n",
              "    }\n",
              "\n",
              "    .dataframe thead th {\n",
              "        text-align: right;\n",
              "    }\n",
              "</style>\n",
              "<table border=\"1\" class=\"dataframe\">\n",
              "  <thead>\n",
              "    <tr style=\"text-align: right;\">\n",
              "      <th></th>\n",
              "      <th>URL</th>\n",
              "      <th>ID</th>\n",
              "      <th>Name</th>\n",
              "      <th>Subtitle</th>\n",
              "      <th>Icon URL</th>\n",
              "      <th>Average User Rating</th>\n",
              "      <th>User Rating Count</th>\n",
              "      <th>Price</th>\n",
              "      <th>In-app Purchases</th>\n",
              "      <th>Description</th>\n",
              "      <th>Developer</th>\n",
              "      <th>Age Rating</th>\n",
              "      <th>Languages</th>\n",
              "      <th>Size</th>\n",
              "      <th>Primary Genre</th>\n",
              "      <th>Genres</th>\n",
              "      <th>Original Release Date</th>\n",
              "      <th>Current Version Release Date</th>\n",
              "    </tr>\n",
              "  </thead>\n",
              "  <tbody>\n",
              "    <tr>\n",
              "      <th>0</th>\n",
              "      <td>https://apps.apple.com/us/app/sudoku/id284921427</td>\n",
              "      <td>284921427</td>\n",
              "      <td>Sudoku</td>\n",
              "      <td>NaN</td>\n",
              "      <td>https://is2-ssl.mzstatic.com/image/thumb/Purpl...</td>\n",
              "      <td>4.00</td>\n",
              "      <td>3553.00</td>\n",
              "      <td>2.99</td>\n",
              "      <td>NaN</td>\n",
              "      <td>Join over 21,000,000 of our fans and download ...</td>\n",
              "      <td>Mighty Mighty Good Games</td>\n",
              "      <td>4+</td>\n",
              "      <td>DA, NL, EN, FI, FR, DE, IT, JA, KO, NB, PL, PT...</td>\n",
              "      <td>15853568.00</td>\n",
              "      <td>Games</td>\n",
              "      <td>Games, Strategy, Puzzle</td>\n",
              "      <td>11/07/2008</td>\n",
              "      <td>30/05/2017</td>\n",
              "    </tr>\n",
              "    <tr>\n",
              "      <th>1</th>\n",
              "      <td>https://apps.apple.com/us/app/reversi/id284926400</td>\n",
              "      <td>284926400</td>\n",
              "      <td>Reversi</td>\n",
              "      <td>NaN</td>\n",
              "      <td>https://is4-ssl.mzstatic.com/image/thumb/Purpl...</td>\n",
              "      <td>3.50</td>\n",
              "      <td>284.00</td>\n",
              "      <td>1.99</td>\n",
              "      <td>NaN</td>\n",
              "      <td>The classic game of Reversi, also known as Oth...</td>\n",
              "      <td>Kiss The Machine</td>\n",
              "      <td>4+</td>\n",
              "      <td>EN</td>\n",
              "      <td>12328960.00</td>\n",
              "      <td>Games</td>\n",
              "      <td>Games, Strategy, Board</td>\n",
              "      <td>11/07/2008</td>\n",
              "      <td>17/05/2018</td>\n",
              "    </tr>\n",
              "    <tr>\n",
              "      <th>2</th>\n",
              "      <td>https://apps.apple.com/us/app/morocco/id284946595</td>\n",
              "      <td>284946595</td>\n",
              "      <td>Morocco</td>\n",
              "      <td>NaN</td>\n",
              "      <td>https://is5-ssl.mzstatic.com/image/thumb/Purpl...</td>\n",
              "      <td>3.00</td>\n",
              "      <td>8376.00</td>\n",
              "      <td>0.00</td>\n",
              "      <td>NaN</td>\n",
              "      <td>Play the classic strategy game Othello (also k...</td>\n",
              "      <td>Bayou Games</td>\n",
              "      <td>4+</td>\n",
              "      <td>EN</td>\n",
              "      <td>674816.00</td>\n",
              "      <td>Games</td>\n",
              "      <td>Games, Board, Strategy</td>\n",
              "      <td>11/07/2008</td>\n",
              "      <td>5/09/2017</td>\n",
              "    </tr>\n",
              "    <tr>\n",
              "      <th>3</th>\n",
              "      <td>https://apps.apple.com/us/app/sudoku-free/id28...</td>\n",
              "      <td>285755462</td>\n",
              "      <td>Sudoku (Free)</td>\n",
              "      <td>NaN</td>\n",
              "      <td>https://is3-ssl.mzstatic.com/image/thumb/Purpl...</td>\n",
              "      <td>3.50</td>\n",
              "      <td>190394.00</td>\n",
              "      <td>0.00</td>\n",
              "      <td>NaN</td>\n",
              "      <td>Top 100 free app for over a year.\\nRated \"Best...</td>\n",
              "      <td>Mighty Mighty Good Games</td>\n",
              "      <td>4+</td>\n",
              "      <td>DA, NL, EN, FI, FR, DE, IT, JA, KO, NB, PL, PT...</td>\n",
              "      <td>21552128.00</td>\n",
              "      <td>Games</td>\n",
              "      <td>Games, Strategy, Puzzle</td>\n",
              "      <td>23/07/2008</td>\n",
              "      <td>30/05/2017</td>\n",
              "    </tr>\n",
              "    <tr>\n",
              "      <th>4</th>\n",
              "      <td>https://apps.apple.com/us/app/senet-deluxe/id2...</td>\n",
              "      <td>285831220</td>\n",
              "      <td>Senet Deluxe</td>\n",
              "      <td>NaN</td>\n",
              "      <td>https://is1-ssl.mzstatic.com/image/thumb/Purpl...</td>\n",
              "      <td>3.50</td>\n",
              "      <td>28.00</td>\n",
              "      <td>2.99</td>\n",
              "      <td>NaN</td>\n",
              "      <td>\"Senet Deluxe - The Ancient Game of Life and A...</td>\n",
              "      <td>RoGame Software</td>\n",
              "      <td>4+</td>\n",
              "      <td>DA, NL, EN, FR, DE, EL, IT, JA, KO, NO, PT, RU...</td>\n",
              "      <td>34689024.00</td>\n",
              "      <td>Games</td>\n",
              "      <td>Games, Strategy, Board, Education</td>\n",
              "      <td>18/07/2008</td>\n",
              "      <td>22/07/2018</td>\n",
              "    </tr>\n",
              "  </tbody>\n",
              "</table>\n",
              "</div>"
            ],
            "text/plain": [
              "                                                 URL  ...  Current Version Release Date\n",
              "0   https://apps.apple.com/us/app/sudoku/id284921427  ...                    30/05/2017\n",
              "1  https://apps.apple.com/us/app/reversi/id284926400  ...                    17/05/2018\n",
              "2  https://apps.apple.com/us/app/morocco/id284946595  ...                     5/09/2017\n",
              "3  https://apps.apple.com/us/app/sudoku-free/id28...  ...                    30/05/2017\n",
              "4  https://apps.apple.com/us/app/senet-deluxe/id2...  ...                    22/07/2018\n",
              "\n",
              "[5 rows x 18 columns]"
            ]
          },
          "metadata": {
            "tags": []
          },
          "execution_count": 89
        }
      ]
    },
    {
      "cell_type": "code",
      "metadata": {
        "id": "V0mfPc0FLHNe",
        "colab_type": "code",
        "colab": {
          "base_uri": "https://localhost:8080/",
          "height": 109
        },
        "outputId": "820ee4b5-ce83-470f-9bd7-4ae1ba8df7cb"
      },
      "source": [
        "df_raw.columns"
      ],
      "execution_count": 90,
      "outputs": [
        {
          "output_type": "execute_result",
          "data": {
            "text/plain": [
              "Index(['URL', 'ID', 'Name', 'Subtitle', 'Icon URL', 'Average User Rating',\n",
              "       'User Rating Count', 'Price', 'In-app Purchases', 'Description',\n",
              "       'Developer', 'Age Rating', 'Languages', 'Size', 'Primary Genre',\n",
              "       'Genres', 'Original Release Date', 'Current Version Release Date'],\n",
              "      dtype='object')"
            ]
          },
          "metadata": {
            "tags": []
          },
          "execution_count": 90
        }
      ]
    },
    {
      "cell_type": "code",
      "metadata": {
        "id": "yzp0BvyTLm0B",
        "colab_type": "code",
        "colab": {
          "base_uri": "https://localhost:8080/",
          "height": 476
        },
        "outputId": "83009c6d-ad38-4fa9-9a5a-2b09dc64a91f"
      },
      "source": [
        "df = df_raw.copy()\n",
        "df.info()"
      ],
      "execution_count": 91,
      "outputs": [
        {
          "output_type": "stream",
          "text": [
            "<class 'pandas.core.frame.DataFrame'>\n",
            "RangeIndex: 17007 entries, 0 to 17006\n",
            "Data columns (total 18 columns):\n",
            " #   Column                        Non-Null Count  Dtype  \n",
            "---  ------                        --------------  -----  \n",
            " 0   URL                           17007 non-null  object \n",
            " 1   ID                            17007 non-null  int64  \n",
            " 2   Name                          17007 non-null  object \n",
            " 3   Subtitle                      5261 non-null   object \n",
            " 4   Icon URL                      17007 non-null  object \n",
            " 5   Average User Rating           7561 non-null   float64\n",
            " 6   User Rating Count             7561 non-null   float64\n",
            " 7   Price                         16983 non-null  float64\n",
            " 8   In-app Purchases              7683 non-null   object \n",
            " 9   Description                   17007 non-null  object \n",
            " 10  Developer                     17007 non-null  object \n",
            " 11  Age Rating                    17007 non-null  object \n",
            " 12  Languages                     16947 non-null  object \n",
            " 13  Size                          17006 non-null  float64\n",
            " 14  Primary Genre                 17007 non-null  object \n",
            " 15  Genres                        17007 non-null  object \n",
            " 16  Original Release Date         17007 non-null  object \n",
            " 17  Current Version Release Date  17007 non-null  object \n",
            "dtypes: float64(4), int64(1), object(13)\n",
            "memory usage: 2.3+ MB\n"
          ],
          "name": "stdout"
        }
      ]
    },
    {
      "cell_type": "code",
      "metadata": {
        "id": "D9SfoNiyLy90",
        "colab_type": "code",
        "colab": {
          "base_uri": "https://localhost:8080/",
          "height": 276
        },
        "outputId": "1c3a5930-b08b-4327-b101-d56657e896a8"
      },
      "source": [
        "df = df.drop(columns=['URL', 'Subtitle', 'Icon URL', 'In-app Purchases', 'Description'])\n",
        "df.head()"
      ],
      "execution_count": 92,
      "outputs": [
        {
          "output_type": "execute_result",
          "data": {
            "text/html": [
              "<div>\n",
              "<style scoped>\n",
              "    .dataframe tbody tr th:only-of-type {\n",
              "        vertical-align: middle;\n",
              "    }\n",
              "\n",
              "    .dataframe tbody tr th {\n",
              "        vertical-align: top;\n",
              "    }\n",
              "\n",
              "    .dataframe thead th {\n",
              "        text-align: right;\n",
              "    }\n",
              "</style>\n",
              "<table border=\"1\" class=\"dataframe\">\n",
              "  <thead>\n",
              "    <tr style=\"text-align: right;\">\n",
              "      <th></th>\n",
              "      <th>ID</th>\n",
              "      <th>Name</th>\n",
              "      <th>Average User Rating</th>\n",
              "      <th>User Rating Count</th>\n",
              "      <th>Price</th>\n",
              "      <th>Developer</th>\n",
              "      <th>Age Rating</th>\n",
              "      <th>Languages</th>\n",
              "      <th>Size</th>\n",
              "      <th>Primary Genre</th>\n",
              "      <th>Genres</th>\n",
              "      <th>Original Release Date</th>\n",
              "      <th>Current Version Release Date</th>\n",
              "    </tr>\n",
              "  </thead>\n",
              "  <tbody>\n",
              "    <tr>\n",
              "      <th>0</th>\n",
              "      <td>284921427</td>\n",
              "      <td>Sudoku</td>\n",
              "      <td>4.00</td>\n",
              "      <td>3553.00</td>\n",
              "      <td>2.99</td>\n",
              "      <td>Mighty Mighty Good Games</td>\n",
              "      <td>4+</td>\n",
              "      <td>DA, NL, EN, FI, FR, DE, IT, JA, KO, NB, PL, PT...</td>\n",
              "      <td>15853568.00</td>\n",
              "      <td>Games</td>\n",
              "      <td>Games, Strategy, Puzzle</td>\n",
              "      <td>11/07/2008</td>\n",
              "      <td>30/05/2017</td>\n",
              "    </tr>\n",
              "    <tr>\n",
              "      <th>1</th>\n",
              "      <td>284926400</td>\n",
              "      <td>Reversi</td>\n",
              "      <td>3.50</td>\n",
              "      <td>284.00</td>\n",
              "      <td>1.99</td>\n",
              "      <td>Kiss The Machine</td>\n",
              "      <td>4+</td>\n",
              "      <td>EN</td>\n",
              "      <td>12328960.00</td>\n",
              "      <td>Games</td>\n",
              "      <td>Games, Strategy, Board</td>\n",
              "      <td>11/07/2008</td>\n",
              "      <td>17/05/2018</td>\n",
              "    </tr>\n",
              "    <tr>\n",
              "      <th>2</th>\n",
              "      <td>284946595</td>\n",
              "      <td>Morocco</td>\n",
              "      <td>3.00</td>\n",
              "      <td>8376.00</td>\n",
              "      <td>0.00</td>\n",
              "      <td>Bayou Games</td>\n",
              "      <td>4+</td>\n",
              "      <td>EN</td>\n",
              "      <td>674816.00</td>\n",
              "      <td>Games</td>\n",
              "      <td>Games, Board, Strategy</td>\n",
              "      <td>11/07/2008</td>\n",
              "      <td>5/09/2017</td>\n",
              "    </tr>\n",
              "    <tr>\n",
              "      <th>3</th>\n",
              "      <td>285755462</td>\n",
              "      <td>Sudoku (Free)</td>\n",
              "      <td>3.50</td>\n",
              "      <td>190394.00</td>\n",
              "      <td>0.00</td>\n",
              "      <td>Mighty Mighty Good Games</td>\n",
              "      <td>4+</td>\n",
              "      <td>DA, NL, EN, FI, FR, DE, IT, JA, KO, NB, PL, PT...</td>\n",
              "      <td>21552128.00</td>\n",
              "      <td>Games</td>\n",
              "      <td>Games, Strategy, Puzzle</td>\n",
              "      <td>23/07/2008</td>\n",
              "      <td>30/05/2017</td>\n",
              "    </tr>\n",
              "    <tr>\n",
              "      <th>4</th>\n",
              "      <td>285831220</td>\n",
              "      <td>Senet Deluxe</td>\n",
              "      <td>3.50</td>\n",
              "      <td>28.00</td>\n",
              "      <td>2.99</td>\n",
              "      <td>RoGame Software</td>\n",
              "      <td>4+</td>\n",
              "      <td>DA, NL, EN, FR, DE, EL, IT, JA, KO, NO, PT, RU...</td>\n",
              "      <td>34689024.00</td>\n",
              "      <td>Games</td>\n",
              "      <td>Games, Strategy, Board, Education</td>\n",
              "      <td>18/07/2008</td>\n",
              "      <td>22/07/2018</td>\n",
              "    </tr>\n",
              "  </tbody>\n",
              "</table>\n",
              "</div>"
            ],
            "text/plain": [
              "          ID           Name  ...  Original Release Date  Current Version Release Date\n",
              "0  284921427         Sudoku  ...             11/07/2008                    30/05/2017\n",
              "1  284926400        Reversi  ...             11/07/2008                    17/05/2018\n",
              "2  284946595        Morocco  ...             11/07/2008                     5/09/2017\n",
              "3  285755462  Sudoku (Free)  ...             23/07/2008                    30/05/2017\n",
              "4  285831220   Senet Deluxe  ...             18/07/2008                    22/07/2018\n",
              "\n",
              "[5 rows x 13 columns]"
            ]
          },
          "metadata": {
            "tags": []
          },
          "execution_count": 92
        }
      ]
    },
    {
      "cell_type": "code",
      "metadata": {
        "id": "YLSfIClZMcxT",
        "colab_type": "code",
        "colab": {
          "base_uri": "https://localhost:8080/",
          "height": 307
        },
        "outputId": "75851159-2118-49db-aaac-3b1eddbe5789"
      },
      "source": [
        "df.set_index('ID', inplace= True)\n",
        "df.head()"
      ],
      "execution_count": 93,
      "outputs": [
        {
          "output_type": "execute_result",
          "data": {
            "text/html": [
              "<div>\n",
              "<style scoped>\n",
              "    .dataframe tbody tr th:only-of-type {\n",
              "        vertical-align: middle;\n",
              "    }\n",
              "\n",
              "    .dataframe tbody tr th {\n",
              "        vertical-align: top;\n",
              "    }\n",
              "\n",
              "    .dataframe thead th {\n",
              "        text-align: right;\n",
              "    }\n",
              "</style>\n",
              "<table border=\"1\" class=\"dataframe\">\n",
              "  <thead>\n",
              "    <tr style=\"text-align: right;\">\n",
              "      <th></th>\n",
              "      <th>Name</th>\n",
              "      <th>Average User Rating</th>\n",
              "      <th>User Rating Count</th>\n",
              "      <th>Price</th>\n",
              "      <th>Developer</th>\n",
              "      <th>Age Rating</th>\n",
              "      <th>Languages</th>\n",
              "      <th>Size</th>\n",
              "      <th>Primary Genre</th>\n",
              "      <th>Genres</th>\n",
              "      <th>Original Release Date</th>\n",
              "      <th>Current Version Release Date</th>\n",
              "    </tr>\n",
              "    <tr>\n",
              "      <th>ID</th>\n",
              "      <th></th>\n",
              "      <th></th>\n",
              "      <th></th>\n",
              "      <th></th>\n",
              "      <th></th>\n",
              "      <th></th>\n",
              "      <th></th>\n",
              "      <th></th>\n",
              "      <th></th>\n",
              "      <th></th>\n",
              "      <th></th>\n",
              "      <th></th>\n",
              "    </tr>\n",
              "  </thead>\n",
              "  <tbody>\n",
              "    <tr>\n",
              "      <th>284921427</th>\n",
              "      <td>Sudoku</td>\n",
              "      <td>4.00</td>\n",
              "      <td>3553.00</td>\n",
              "      <td>2.99</td>\n",
              "      <td>Mighty Mighty Good Games</td>\n",
              "      <td>4+</td>\n",
              "      <td>DA, NL, EN, FI, FR, DE, IT, JA, KO, NB, PL, PT...</td>\n",
              "      <td>15853568.00</td>\n",
              "      <td>Games</td>\n",
              "      <td>Games, Strategy, Puzzle</td>\n",
              "      <td>11/07/2008</td>\n",
              "      <td>30/05/2017</td>\n",
              "    </tr>\n",
              "    <tr>\n",
              "      <th>284926400</th>\n",
              "      <td>Reversi</td>\n",
              "      <td>3.50</td>\n",
              "      <td>284.00</td>\n",
              "      <td>1.99</td>\n",
              "      <td>Kiss The Machine</td>\n",
              "      <td>4+</td>\n",
              "      <td>EN</td>\n",
              "      <td>12328960.00</td>\n",
              "      <td>Games</td>\n",
              "      <td>Games, Strategy, Board</td>\n",
              "      <td>11/07/2008</td>\n",
              "      <td>17/05/2018</td>\n",
              "    </tr>\n",
              "    <tr>\n",
              "      <th>284946595</th>\n",
              "      <td>Morocco</td>\n",
              "      <td>3.00</td>\n",
              "      <td>8376.00</td>\n",
              "      <td>0.00</td>\n",
              "      <td>Bayou Games</td>\n",
              "      <td>4+</td>\n",
              "      <td>EN</td>\n",
              "      <td>674816.00</td>\n",
              "      <td>Games</td>\n",
              "      <td>Games, Board, Strategy</td>\n",
              "      <td>11/07/2008</td>\n",
              "      <td>5/09/2017</td>\n",
              "    </tr>\n",
              "    <tr>\n",
              "      <th>285755462</th>\n",
              "      <td>Sudoku (Free)</td>\n",
              "      <td>3.50</td>\n",
              "      <td>190394.00</td>\n",
              "      <td>0.00</td>\n",
              "      <td>Mighty Mighty Good Games</td>\n",
              "      <td>4+</td>\n",
              "      <td>DA, NL, EN, FI, FR, DE, IT, JA, KO, NB, PL, PT...</td>\n",
              "      <td>21552128.00</td>\n",
              "      <td>Games</td>\n",
              "      <td>Games, Strategy, Puzzle</td>\n",
              "      <td>23/07/2008</td>\n",
              "      <td>30/05/2017</td>\n",
              "    </tr>\n",
              "    <tr>\n",
              "      <th>285831220</th>\n",
              "      <td>Senet Deluxe</td>\n",
              "      <td>3.50</td>\n",
              "      <td>28.00</td>\n",
              "      <td>2.99</td>\n",
              "      <td>RoGame Software</td>\n",
              "      <td>4+</td>\n",
              "      <td>DA, NL, EN, FR, DE, EL, IT, JA, KO, NO, PT, RU...</td>\n",
              "      <td>34689024.00</td>\n",
              "      <td>Games</td>\n",
              "      <td>Games, Strategy, Board, Education</td>\n",
              "      <td>18/07/2008</td>\n",
              "      <td>22/07/2018</td>\n",
              "    </tr>\n",
              "  </tbody>\n",
              "</table>\n",
              "</div>"
            ],
            "text/plain": [
              "                    Name  ...  Current Version Release Date\n",
              "ID                        ...                              \n",
              "284921427         Sudoku  ...                    30/05/2017\n",
              "284926400        Reversi  ...                    17/05/2018\n",
              "284946595        Morocco  ...                     5/09/2017\n",
              "285755462  Sudoku (Free)  ...                    30/05/2017\n",
              "285831220   Senet Deluxe  ...                    22/07/2018\n",
              "\n",
              "[5 rows x 12 columns]"
            ]
          },
          "metadata": {
            "tags": []
          },
          "execution_count": 93
        }
      ]
    },
    {
      "cell_type": "code",
      "metadata": {
        "id": "LWUnj6QxMy97",
        "colab_type": "code",
        "colab": {
          "base_uri": "https://localhost:8080/",
          "height": 175
        },
        "outputId": "5138a7d1-653b-4b76-d774-7450b402d300"
      },
      "source": [
        "pd.set_option('float', '{:.2f}'.format)\n",
        "df.describe().T"
      ],
      "execution_count": 94,
      "outputs": [
        {
          "output_type": "execute_result",
          "data": {
            "text/html": [
              "<div>\n",
              "<style scoped>\n",
              "    .dataframe tbody tr th:only-of-type {\n",
              "        vertical-align: middle;\n",
              "    }\n",
              "\n",
              "    .dataframe tbody tr th {\n",
              "        vertical-align: top;\n",
              "    }\n",
              "\n",
              "    .dataframe thead th {\n",
              "        text-align: right;\n",
              "    }\n",
              "</style>\n",
              "<table border=\"1\" class=\"dataframe\">\n",
              "  <thead>\n",
              "    <tr style=\"text-align: right;\">\n",
              "      <th></th>\n",
              "      <th>count</th>\n",
              "      <th>mean</th>\n",
              "      <th>std</th>\n",
              "      <th>min</th>\n",
              "      <th>25%</th>\n",
              "      <th>50%</th>\n",
              "      <th>75%</th>\n",
              "      <th>max</th>\n",
              "    </tr>\n",
              "  </thead>\n",
              "  <tbody>\n",
              "    <tr>\n",
              "      <th>Average User Rating</th>\n",
              "      <td>7561.00</td>\n",
              "      <td>4.06</td>\n",
              "      <td>0.75</td>\n",
              "      <td>1.00</td>\n",
              "      <td>3.50</td>\n",
              "      <td>4.50</td>\n",
              "      <td>4.50</td>\n",
              "      <td>5.00</td>\n",
              "    </tr>\n",
              "    <tr>\n",
              "      <th>User Rating Count</th>\n",
              "      <td>7561.00</td>\n",
              "      <td>3306.53</td>\n",
              "      <td>42322.56</td>\n",
              "      <td>5.00</td>\n",
              "      <td>12.00</td>\n",
              "      <td>46.00</td>\n",
              "      <td>309.00</td>\n",
              "      <td>3032734.00</td>\n",
              "    </tr>\n",
              "    <tr>\n",
              "      <th>Price</th>\n",
              "      <td>16983.00</td>\n",
              "      <td>0.81</td>\n",
              "      <td>7.84</td>\n",
              "      <td>0.00</td>\n",
              "      <td>0.00</td>\n",
              "      <td>0.00</td>\n",
              "      <td>0.00</td>\n",
              "      <td>179.99</td>\n",
              "    </tr>\n",
              "    <tr>\n",
              "      <th>Size</th>\n",
              "      <td>17006.00</td>\n",
              "      <td>115706429.89</td>\n",
              "      <td>203647677.85</td>\n",
              "      <td>51328.00</td>\n",
              "      <td>22950144.00</td>\n",
              "      <td>56768954.00</td>\n",
              "      <td>133027072.00</td>\n",
              "      <td>4005591040.00</td>\n",
              "    </tr>\n",
              "  </tbody>\n",
              "</table>\n",
              "</div>"
            ],
            "text/plain": [
              "                       count         mean  ...          75%           max\n",
              "Average User Rating  7561.00         4.06  ...         4.50          5.00\n",
              "User Rating Count    7561.00      3306.53  ...       309.00    3032734.00\n",
              "Price               16983.00         0.81  ...         0.00        179.99\n",
              "Size                17006.00 115706429.89  ... 133027072.00 4005591040.00\n",
              "\n",
              "[4 rows x 8 columns]"
            ]
          },
          "metadata": {
            "tags": []
          },
          "execution_count": 94
        }
      ]
    },
    {
      "cell_type": "code",
      "metadata": {
        "id": "hlFsa8GxydE4",
        "colab_type": "code",
        "colab": {
          "base_uri": "https://localhost:8080/",
          "height": 147
        },
        "outputId": "77eb816d-43d8-4d37-8e5d-a44e8558746a"
      },
      "source": [
        "df[df['User Rating Count'] == df['User Rating Count'].max()]"
      ],
      "execution_count": 95,
      "outputs": [
        {
          "output_type": "execute_result",
          "data": {
            "text/html": [
              "<div>\n",
              "<style scoped>\n",
              "    .dataframe tbody tr th:only-of-type {\n",
              "        vertical-align: middle;\n",
              "    }\n",
              "\n",
              "    .dataframe tbody tr th {\n",
              "        vertical-align: top;\n",
              "    }\n",
              "\n",
              "    .dataframe thead th {\n",
              "        text-align: right;\n",
              "    }\n",
              "</style>\n",
              "<table border=\"1\" class=\"dataframe\">\n",
              "  <thead>\n",
              "    <tr style=\"text-align: right;\">\n",
              "      <th></th>\n",
              "      <th>Name</th>\n",
              "      <th>Average User Rating</th>\n",
              "      <th>User Rating Count</th>\n",
              "      <th>Price</th>\n",
              "      <th>Developer</th>\n",
              "      <th>Age Rating</th>\n",
              "      <th>Languages</th>\n",
              "      <th>Size</th>\n",
              "      <th>Primary Genre</th>\n",
              "      <th>Genres</th>\n",
              "      <th>Original Release Date</th>\n",
              "      <th>Current Version Release Date</th>\n",
              "    </tr>\n",
              "    <tr>\n",
              "      <th>ID</th>\n",
              "      <th></th>\n",
              "      <th></th>\n",
              "      <th></th>\n",
              "      <th></th>\n",
              "      <th></th>\n",
              "      <th></th>\n",
              "      <th></th>\n",
              "      <th></th>\n",
              "      <th></th>\n",
              "      <th></th>\n",
              "      <th></th>\n",
              "      <th></th>\n",
              "    </tr>\n",
              "  </thead>\n",
              "  <tbody>\n",
              "    <tr>\n",
              "      <th>529479190</th>\n",
              "      <td>Clash of Clans</td>\n",
              "      <td>4.50</td>\n",
              "      <td>3032734.00</td>\n",
              "      <td>0.00</td>\n",
              "      <td>Supercell</td>\n",
              "      <td>9+</td>\n",
              "      <td>AR, NL, EN, FI, FR, DE, ID, IT, JA, KO, MS, NB...</td>\n",
              "      <td>161219584.00</td>\n",
              "      <td>Games</td>\n",
              "      <td>Games, Action, Entertainment, Strategy</td>\n",
              "      <td>2/08/2012</td>\n",
              "      <td>20/06/2019</td>\n",
              "    </tr>\n",
              "  </tbody>\n",
              "</table>\n",
              "</div>"
            ],
            "text/plain": [
              "                     Name  ...  Current Version Release Date\n",
              "ID                         ...                              \n",
              "529479190  Clash of Clans  ...                    20/06/2019\n",
              "\n",
              "[1 rows x 12 columns]"
            ]
          },
          "metadata": {
            "tags": []
          },
          "execution_count": 95
        }
      ]
    },
    {
      "cell_type": "code",
      "metadata": {
        "id": "q93-hRl1OaNp",
        "colab_type": "code",
        "colab": {
          "base_uri": "https://localhost:8080/",
          "height": 300
        },
        "outputId": "b0ce7d5b-100c-47d3-d4dc-1977037489ff"
      },
      "source": [
        "df.describe(include=['object']).T"
      ],
      "execution_count": 96,
      "outputs": [
        {
          "output_type": "execute_result",
          "data": {
            "text/html": [
              "<div>\n",
              "<style scoped>\n",
              "    .dataframe tbody tr th:only-of-type {\n",
              "        vertical-align: middle;\n",
              "    }\n",
              "\n",
              "    .dataframe tbody tr th {\n",
              "        vertical-align: top;\n",
              "    }\n",
              "\n",
              "    .dataframe thead th {\n",
              "        text-align: right;\n",
              "    }\n",
              "</style>\n",
              "<table border=\"1\" class=\"dataframe\">\n",
              "  <thead>\n",
              "    <tr style=\"text-align: right;\">\n",
              "      <th></th>\n",
              "      <th>count</th>\n",
              "      <th>unique</th>\n",
              "      <th>top</th>\n",
              "      <th>freq</th>\n",
              "    </tr>\n",
              "  </thead>\n",
              "  <tbody>\n",
              "    <tr>\n",
              "      <th>Name</th>\n",
              "      <td>17007</td>\n",
              "      <td>16847</td>\n",
              "      <td>Tank Battle: Blitzkrieg</td>\n",
              "      <td>2</td>\n",
              "    </tr>\n",
              "    <tr>\n",
              "      <th>Developer</th>\n",
              "      <td>17007</td>\n",
              "      <td>8693</td>\n",
              "      <td>Tapps Tecnologia da Informa\\xe7\\xe3o Ltda.</td>\n",
              "      <td>123</td>\n",
              "    </tr>\n",
              "    <tr>\n",
              "      <th>Age Rating</th>\n",
              "      <td>17007</td>\n",
              "      <td>4</td>\n",
              "      <td>4+</td>\n",
              "      <td>11806</td>\n",
              "    </tr>\n",
              "    <tr>\n",
              "      <th>Languages</th>\n",
              "      <td>16947</td>\n",
              "      <td>990</td>\n",
              "      <td>EN</td>\n",
              "      <td>12467</td>\n",
              "    </tr>\n",
              "    <tr>\n",
              "      <th>Primary Genre</th>\n",
              "      <td>17007</td>\n",
              "      <td>21</td>\n",
              "      <td>Games</td>\n",
              "      <td>16286</td>\n",
              "    </tr>\n",
              "    <tr>\n",
              "      <th>Genres</th>\n",
              "      <td>17007</td>\n",
              "      <td>1004</td>\n",
              "      <td>Games, Strategy, Puzzle</td>\n",
              "      <td>778</td>\n",
              "    </tr>\n",
              "    <tr>\n",
              "      <th>Original Release Date</th>\n",
              "      <td>17007</td>\n",
              "      <td>3084</td>\n",
              "      <td>2/09/2016</td>\n",
              "      <td>75</td>\n",
              "    </tr>\n",
              "    <tr>\n",
              "      <th>Current Version Release Date</th>\n",
              "      <td>17007</td>\n",
              "      <td>2512</td>\n",
              "      <td>1/08/2019</td>\n",
              "      <td>118</td>\n",
              "    </tr>\n",
              "  </tbody>\n",
              "</table>\n",
              "</div>"
            ],
            "text/plain": [
              "                              count  ...   freq\n",
              "Name                          17007  ...      2\n",
              "Developer                     17007  ...    123\n",
              "Age Rating                    17007  ...  11806\n",
              "Languages                     16947  ...  12467\n",
              "Primary Genre                 17007  ...  16286\n",
              "Genres                        17007  ...    778\n",
              "Original Release Date         17007  ...     75\n",
              "Current Version Release Date  17007  ...    118\n",
              "\n",
              "[8 rows x 4 columns]"
            ]
          },
          "metadata": {
            "tags": []
          },
          "execution_count": 96
        }
      ]
    },
    {
      "cell_type": "code",
      "metadata": {
        "id": "g09YpmuiQGhv",
        "colab_type": "code",
        "colab": {
          "base_uri": "https://localhost:8080/",
          "height": 324
        },
        "outputId": "62a424d3-6c46-43df-b841-7fd197328b04"
      },
      "source": [
        "df.columns = [col.lower().replace(\" \", \"_\") for col in df.columns]\n",
        "df.head()"
      ],
      "execution_count": 97,
      "outputs": [
        {
          "output_type": "execute_result",
          "data": {
            "text/html": [
              "<div>\n",
              "<style scoped>\n",
              "    .dataframe tbody tr th:only-of-type {\n",
              "        vertical-align: middle;\n",
              "    }\n",
              "\n",
              "    .dataframe tbody tr th {\n",
              "        vertical-align: top;\n",
              "    }\n",
              "\n",
              "    .dataframe thead th {\n",
              "        text-align: right;\n",
              "    }\n",
              "</style>\n",
              "<table border=\"1\" class=\"dataframe\">\n",
              "  <thead>\n",
              "    <tr style=\"text-align: right;\">\n",
              "      <th></th>\n",
              "      <th>name</th>\n",
              "      <th>average_user_rating</th>\n",
              "      <th>user_rating_count</th>\n",
              "      <th>price</th>\n",
              "      <th>developer</th>\n",
              "      <th>age_rating</th>\n",
              "      <th>languages</th>\n",
              "      <th>size</th>\n",
              "      <th>primary_genre</th>\n",
              "      <th>genres</th>\n",
              "      <th>original_release_date</th>\n",
              "      <th>current_version_release_date</th>\n",
              "    </tr>\n",
              "    <tr>\n",
              "      <th>ID</th>\n",
              "      <th></th>\n",
              "      <th></th>\n",
              "      <th></th>\n",
              "      <th></th>\n",
              "      <th></th>\n",
              "      <th></th>\n",
              "      <th></th>\n",
              "      <th></th>\n",
              "      <th></th>\n",
              "      <th></th>\n",
              "      <th></th>\n",
              "      <th></th>\n",
              "    </tr>\n",
              "  </thead>\n",
              "  <tbody>\n",
              "    <tr>\n",
              "      <th>284921427</th>\n",
              "      <td>Sudoku</td>\n",
              "      <td>4.00</td>\n",
              "      <td>3553.00</td>\n",
              "      <td>2.99</td>\n",
              "      <td>Mighty Mighty Good Games</td>\n",
              "      <td>4+</td>\n",
              "      <td>DA, NL, EN, FI, FR, DE, IT, JA, KO, NB, PL, PT...</td>\n",
              "      <td>15853568.00</td>\n",
              "      <td>Games</td>\n",
              "      <td>Games, Strategy, Puzzle</td>\n",
              "      <td>11/07/2008</td>\n",
              "      <td>30/05/2017</td>\n",
              "    </tr>\n",
              "    <tr>\n",
              "      <th>284926400</th>\n",
              "      <td>Reversi</td>\n",
              "      <td>3.50</td>\n",
              "      <td>284.00</td>\n",
              "      <td>1.99</td>\n",
              "      <td>Kiss The Machine</td>\n",
              "      <td>4+</td>\n",
              "      <td>EN</td>\n",
              "      <td>12328960.00</td>\n",
              "      <td>Games</td>\n",
              "      <td>Games, Strategy, Board</td>\n",
              "      <td>11/07/2008</td>\n",
              "      <td>17/05/2018</td>\n",
              "    </tr>\n",
              "    <tr>\n",
              "      <th>284946595</th>\n",
              "      <td>Morocco</td>\n",
              "      <td>3.00</td>\n",
              "      <td>8376.00</td>\n",
              "      <td>0.00</td>\n",
              "      <td>Bayou Games</td>\n",
              "      <td>4+</td>\n",
              "      <td>EN</td>\n",
              "      <td>674816.00</td>\n",
              "      <td>Games</td>\n",
              "      <td>Games, Board, Strategy</td>\n",
              "      <td>11/07/2008</td>\n",
              "      <td>5/09/2017</td>\n",
              "    </tr>\n",
              "    <tr>\n",
              "      <th>285755462</th>\n",
              "      <td>Sudoku (Free)</td>\n",
              "      <td>3.50</td>\n",
              "      <td>190394.00</td>\n",
              "      <td>0.00</td>\n",
              "      <td>Mighty Mighty Good Games</td>\n",
              "      <td>4+</td>\n",
              "      <td>DA, NL, EN, FI, FR, DE, IT, JA, KO, NB, PL, PT...</td>\n",
              "      <td>21552128.00</td>\n",
              "      <td>Games</td>\n",
              "      <td>Games, Strategy, Puzzle</td>\n",
              "      <td>23/07/2008</td>\n",
              "      <td>30/05/2017</td>\n",
              "    </tr>\n",
              "    <tr>\n",
              "      <th>285831220</th>\n",
              "      <td>Senet Deluxe</td>\n",
              "      <td>3.50</td>\n",
              "      <td>28.00</td>\n",
              "      <td>2.99</td>\n",
              "      <td>RoGame Software</td>\n",
              "      <td>4+</td>\n",
              "      <td>DA, NL, EN, FR, DE, EL, IT, JA, KO, NO, PT, RU...</td>\n",
              "      <td>34689024.00</td>\n",
              "      <td>Games</td>\n",
              "      <td>Games, Strategy, Board, Education</td>\n",
              "      <td>18/07/2008</td>\n",
              "      <td>22/07/2018</td>\n",
              "    </tr>\n",
              "  </tbody>\n",
              "</table>\n",
              "</div>"
            ],
            "text/plain": [
              "                    name  ...  current_version_release_date\n",
              "ID                        ...                              \n",
              "284921427         Sudoku  ...                    30/05/2017\n",
              "284926400        Reversi  ...                    17/05/2018\n",
              "284946595        Morocco  ...                     5/09/2017\n",
              "285755462  Sudoku (Free)  ...                    30/05/2017\n",
              "285831220   Senet Deluxe  ...                    22/07/2018\n",
              "\n",
              "[5 rows x 12 columns]"
            ]
          },
          "metadata": {
            "tags": []
          },
          "execution_count": 97
        }
      ]
    },
    {
      "cell_type": "code",
      "metadata": {
        "id": "sKpyk3dbbXol",
        "colab_type": "code",
        "colab": {
          "base_uri": "https://localhost:8080/",
          "height": 256
        },
        "outputId": "725f73f5-afe0-4f7c-932a-dadf41aa300d"
      },
      "source": [
        "df['average_user_rating']"
      ],
      "execution_count": 98,
      "outputs": [
        {
          "output_type": "execute_result",
          "data": {
            "text/plain": [
              "ID\n",
              "284921427    4.00\n",
              "284926400    3.50\n",
              "284946595    3.00\n",
              "285755462    3.50\n",
              "285831220    3.50\n",
              "             ... \n",
              "1474626442    nan\n",
              "1474919257    nan\n",
              "1474962324    nan\n",
              "1474963671    nan\n",
              "1475076711    nan\n",
              "Name: average_user_rating, Length: 17007, dtype: float64"
            ]
          },
          "metadata": {
            "tags": []
          },
          "execution_count": 98
        }
      ]
    },
    {
      "cell_type": "code",
      "metadata": {
        "id": "rMd8PKGezFJl",
        "colab_type": "code",
        "colab": {
          "base_uri": "https://localhost:8080/",
          "height": 421
        },
        "outputId": "6ef8ded8-6445-4ee5-a6d9-21dae9c410a3"
      },
      "source": [
        "df['primary_genre'].value_counts()"
      ],
      "execution_count": 99,
      "outputs": [
        {
          "output_type": "execute_result",
          "data": {
            "text/plain": [
              "Games                16286\n",
              "Education              222\n",
              "Entertainment          198\n",
              "Utilities               77\n",
              "Sports                  60\n",
              "Reference               32\n",
              "Stickers                29\n",
              "Finance                 18\n",
              "Business                16\n",
              "Productivity            15\n",
              "Lifestyle               10\n",
              "Book                     9\n",
              "Social Networking        9\n",
              "News                     7\n",
              "Health & Fitness         5\n",
              "Food & Drink             4\n",
              "Music                    3\n",
              "Navigation               3\n",
              "Medical                  2\n",
              "Travel                   1\n",
              "Shopping                 1\n",
              "Name: primary_genre, dtype: int64"
            ]
          },
          "metadata": {
            "tags": []
          },
          "execution_count": 99
        }
      ]
    },
    {
      "cell_type": "code",
      "metadata": {
        "id": "E04E0y8fzQvw",
        "colab_type": "code",
        "colab": {
          "base_uri": "https://localhost:8080/",
          "height": 90
        },
        "outputId": "018a37ba-8554-4380-e5e5-ceb8d389c543"
      },
      "source": [
        "df['primary_genre'].value_counts().nlargest(3)"
      ],
      "execution_count": 100,
      "outputs": [
        {
          "output_type": "execute_result",
          "data": {
            "text/plain": [
              "Games            16286\n",
              "Education          222\n",
              "Entertainment      198\n",
              "Name: primary_genre, dtype: int64"
            ]
          },
          "metadata": {
            "tags": []
          },
          "execution_count": 100
        }
      ]
    },
    {
      "cell_type": "code",
      "metadata": {
        "id": "ClRhlwfvzjzI",
        "colab_type": "code",
        "colab": {
          "base_uri": "https://localhost:8080/",
          "height": 35
        },
        "outputId": "bdd6a70b-c007-45e3-e8c3-42af99702295"
      },
      "source": [
        "list(df['primary_genre'].value_counts().nlargest(3).index)"
      ],
      "execution_count": 101,
      "outputs": [
        {
          "output_type": "execute_result",
          "data": {
            "text/plain": [
              "['Games', 'Education', 'Entertainment']"
            ]
          },
          "metadata": {
            "tags": []
          },
          "execution_count": 101
        }
      ]
    },
    {
      "cell_type": "code",
      "metadata": {
        "id": "CWsp3nEAzrrS",
        "colab_type": "code",
        "colab": {
          "base_uri": "https://localhost:8080/",
          "height": 109
        },
        "outputId": "657985e4-4920-40a8-c0ee-5da6c70f0903"
      },
      "source": [
        "df['age_rating'].value_counts()"
      ],
      "execution_count": 102,
      "outputs": [
        {
          "output_type": "execute_result",
          "data": {
            "text/plain": [
              "4+     11806\n",
              "9+      2481\n",
              "12+     2055\n",
              "17+      665\n",
              "Name: age_rating, dtype: int64"
            ]
          },
          "metadata": {
            "tags": []
          },
          "execution_count": 102
        }
      ]
    },
    {
      "cell_type": "code",
      "metadata": {
        "id": "RAW7pIM5z5rI",
        "colab_type": "code",
        "colab": {}
      },
      "source": [
        "import seaborn as sns\n",
        "sns.set()"
      ],
      "execution_count": 103,
      "outputs": []
    },
    {
      "cell_type": "code",
      "metadata": {
        "id": "qcSBvHclz0g1",
        "colab_type": "code",
        "colab": {
          "base_uri": "https://localhost:8080/",
          "height": 390
        },
        "outputId": "87d9ef1b-794b-4316-cca0-f06a8a861268"
      },
      "source": [
        "_ = df['age_rating'].value_counts().plot(kind='bar', legend=True, figsize= (6,6))"
      ],
      "execution_count": 104,
      "outputs": [
        {
          "output_type": "display_data",
          "data": {
            "image/png": "[encoded data removed]",
            "text/plain": [
              "<Figure size 432x432 with 1 Axes>"
            ]
          },
          "metadata": {
            "tags": []
          }
        }
      ]
    },
    {
      "cell_type": "code",
      "metadata": {
        "id": "UiToAl7C0KRM",
        "colab_type": "code",
        "colab": {
          "base_uri": "https://localhost:8080/",
          "height": 248
        },
        "outputId": "ee034010-f34d-413a-a21d-2e1065e3e89a"
      },
      "source": [
        "_ = df['age_rating'].value_counts().plot(kind='pie')"
      ],
      "execution_count": 105,
      "outputs": [
        {
          "output_type": "display_data",
          "data": {
            "image/png": "[encoded data removed]",
            "text/plain": [
              "<Figure size 432x288 with 1 Axes>"
            ]
          },
          "metadata": {
            "tags": []
          }
        }
      ]
    },
    {
      "cell_type": "code",
      "metadata": {
        "id": "8OELAJti1fU8",
        "colab_type": "code",
        "colab": {
          "base_uri": "https://localhost:8080/",
          "height": 476
        },
        "outputId": "4f8bceba-ffb0-4f6b-8274-8e5e2949ae49"
      },
      "source": [
        "df['price'].value_counts()"
      ],
      "execution_count": 106,
      "outputs": [
        {
          "output_type": "execute_result",
          "data": {
            "text/plain": [
              "0.00      14212\n",
              "0.99       1078\n",
              "1.99        515\n",
              "2.99        471\n",
              "4.99        237\n",
              "3.99        163\n",
              "9.99         88\n",
              "11.99        59\n",
              "5.99         42\n",
              "6.99         32\n",
              "179.99       30\n",
              "7.99         17\n",
              "8.99         13\n",
              "19.99         9\n",
              "14.99         4\n",
              "12.99         3\n",
              "16.99         2\n",
              "29.99         2\n",
              "99.99         1\n",
              "36.99         1\n",
              "59.99         1\n",
              "139.99        1\n",
              "37.99         1\n",
              "18.99         1\n",
              "Name: price, dtype: int64"
            ]
          },
          "metadata": {
            "tags": []
          },
          "execution_count": 106
        }
      ]
    },
    {
      "cell_type": "code",
      "metadata": {
        "id": "AsGS5W9T1sRm",
        "colab_type": "code",
        "colab": {
          "base_uri": "https://localhost:8080/",
          "height": 237
        },
        "outputId": "28b7e8bc-a06e-4b38-aed7-eb635bc5b6fc"
      },
      "source": [
        "df['languages'].value_counts()"
      ],
      "execution_count": 107,
      "outputs": [
        {
          "output_type": "execute_result",
          "data": {
            "text/plain": [
              "EN                                                                12467\n",
              "EN, ZH                                                              354\n",
              "CS, NL, EN, FR, DE, IT, JA, KO, PL, PT, RU, ZH, ES, SV, ZH, TR      277\n",
              "EN, ZH, ZH                                                          248\n",
              "EN, DE                                                              147\n",
              "                                                                  ...  \n",
              "ZH, EN, FR, DE, ID, IT, JA, KO, PT, RU, ZH, ES, TH, ZH, VI            1\n",
              "ZH, DA, NL, EN, FR, DE, IT, JA, PT, RU, ES, TR                        1\n",
              "EN, DE, IT, PT, RU, ES, TR                                            1\n",
              "EN, FR, DE, IT, JA, ES, ZH                                            1\n",
              "NL, EN, PT, ZH, ES                                                    1\n",
              "Name: languages, Length: 990, dtype: int64"
            ]
          },
          "metadata": {
            "tags": []
          },
          "execution_count": 107
        }
      ]
    },
    {
      "cell_type": "code",
      "metadata": {
        "id": "t25whCyV10ih",
        "colab_type": "code",
        "colab": {
          "base_uri": "https://localhost:8080/",
          "height": 256
        },
        "outputId": "fcdd6056-ee7f-4243-91d8-7e94846e2851"
      },
      "source": [
        "df['languages'].str.split(',')"
      ],
      "execution_count": 108,
      "outputs": [
        {
          "output_type": "execute_result",
          "data": {
            "text/plain": [
              "ID\n",
              "284921427     [DA,  NL,  EN,  FI,  FR,  DE,  IT,  JA,  KO,  ...\n",
              "284926400                                                  [EN]\n",
              "284946595                                                  [EN]\n",
              "285755462     [DA,  NL,  EN,  FI,  FR,  DE,  IT,  JA,  KO,  ...\n",
              "285831220     [DA,  NL,  EN,  FR,  DE,  EL,  IT,  JA,  KO,  ...\n",
              "                                    ...                        \n",
              "1474626442                                                 [EN]\n",
              "1474919257                                                 [EN]\n",
              "1474962324                                                 [EN]\n",
              "1474963671                                                 [EN]\n",
              "1475076711                                            [EN,  ZH]\n",
              "Name: languages, Length: 17007, dtype: object"
            ]
          },
          "metadata": {
            "tags": []
          },
          "execution_count": 108
        }
      ]
    },
    {
      "cell_type": "code",
      "metadata": {
        "id": "uX6UOPZS2bhA",
        "colab_type": "code",
        "colab": {
          "base_uri": "https://localhost:8080/",
          "height": 256
        },
        "outputId": "6155b8f8-5452-478a-9187-c587d7ebb717"
      },
      "source": [
        "df['languages'].str.split(',').str.len()"
      ],
      "execution_count": 109,
      "outputs": [
        {
          "output_type": "execute_result",
          "data": {
            "text/plain": [
              "ID\n",
              "284921427    17.00\n",
              "284926400     1.00\n",
              "284946595     1.00\n",
              "285755462    17.00\n",
              "285831220    15.00\n",
              "              ... \n",
              "1474626442    1.00\n",
              "1474919257    1.00\n",
              "1474962324    1.00\n",
              "1474963671    1.00\n",
              "1475076711    2.00\n",
              "Name: languages, Length: 17007, dtype: float64"
            ]
          },
          "metadata": {
            "tags": []
          },
          "execution_count": 109
        }
      ]
    },
    {
      "cell_type": "code",
      "metadata": {
        "id": "cdl85HLv2fgC",
        "colab_type": "code",
        "colab": {
          "base_uri": "https://localhost:8080/",
          "height": 324
        },
        "outputId": "b4762be2-e03b-4b51-9f60-f6ac8e150530"
      },
      "source": [
        "df['num_lang'] = df['languages'].str.split(',').str.len()\n",
        "df.head()"
      ],
      "execution_count": 110,
      "outputs": [
        {
          "output_type": "execute_result",
          "data": {
            "text/html": [
              "<div>\n",
              "<style scoped>\n",
              "    .dataframe tbody tr th:only-of-type {\n",
              "        vertical-align: middle;\n",
              "    }\n",
              "\n",
              "    .dataframe tbody tr th {\n",
              "        vertical-align: top;\n",
              "    }\n",
              "\n",
              "    .dataframe thead th {\n",
              "        text-align: right;\n",
              "    }\n",
              "</style>\n",
              "<table border=\"1\" class=\"dataframe\">\n",
              "  <thead>\n",
              "    <tr style=\"text-align: right;\">\n",
              "      <th></th>\n",
              "      <th>name</th>\n",
              "      <th>average_user_rating</th>\n",
              "      <th>user_rating_count</th>\n",
              "      <th>price</th>\n",
              "      <th>developer</th>\n",
              "      <th>age_rating</th>\n",
              "      <th>languages</th>\n",
              "      <th>size</th>\n",
              "      <th>primary_genre</th>\n",
              "      <th>genres</th>\n",
              "      <th>original_release_date</th>\n",
              "      <th>current_version_release_date</th>\n",
              "      <th>num_lang</th>\n",
              "    </tr>\n",
              "    <tr>\n",
              "      <th>ID</th>\n",
              "      <th></th>\n",
              "      <th></th>\n",
              "      <th></th>\n",
              "      <th></th>\n",
              "      <th></th>\n",
              "      <th></th>\n",
              "      <th></th>\n",
              "      <th></th>\n",
              "      <th></th>\n",
              "      <th></th>\n",
              "      <th></th>\n",
              "      <th></th>\n",
              "      <th></th>\n",
              "    </tr>\n",
              "  </thead>\n",
              "  <tbody>\n",
              "    <tr>\n",
              "      <th>284921427</th>\n",
              "      <td>Sudoku</td>\n",
              "      <td>4.00</td>\n",
              "      <td>3553.00</td>\n",
              "      <td>2.99</td>\n",
              "      <td>Mighty Mighty Good Games</td>\n",
              "      <td>4+</td>\n",
              "      <td>DA, NL, EN, FI, FR, DE, IT, JA, KO, NB, PL, PT...</td>\n",
              "      <td>15853568.00</td>\n",
              "      <td>Games</td>\n",
              "      <td>Games, Strategy, Puzzle</td>\n",
              "      <td>11/07/2008</td>\n",
              "      <td>30/05/2017</td>\n",
              "      <td>17.00</td>\n",
              "    </tr>\n",
              "    <tr>\n",
              "      <th>284926400</th>\n",
              "      <td>Reversi</td>\n",
              "      <td>3.50</td>\n",
              "      <td>284.00</td>\n",
              "      <td>1.99</td>\n",
              "      <td>Kiss The Machine</td>\n",
              "      <td>4+</td>\n",
              "      <td>EN</td>\n",
              "      <td>12328960.00</td>\n",
              "      <td>Games</td>\n",
              "      <td>Games, Strategy, Board</td>\n",
              "      <td>11/07/2008</td>\n",
              "      <td>17/05/2018</td>\n",
              "      <td>1.00</td>\n",
              "    </tr>\n",
              "    <tr>\n",
              "      <th>284946595</th>\n",
              "      <td>Morocco</td>\n",
              "      <td>3.00</td>\n",
              "      <td>8376.00</td>\n",
              "      <td>0.00</td>\n",
              "      <td>Bayou Games</td>\n",
              "      <td>4+</td>\n",
              "      <td>EN</td>\n",
              "      <td>674816.00</td>\n",
              "      <td>Games</td>\n",
              "      <td>Games, Board, Strategy</td>\n",
              "      <td>11/07/2008</td>\n",
              "      <td>5/09/2017</td>\n",
              "      <td>1.00</td>\n",
              "    </tr>\n",
              "    <tr>\n",
              "      <th>285755462</th>\n",
              "      <td>Sudoku (Free)</td>\n",
              "      <td>3.50</td>\n",
              "      <td>190394.00</td>\n",
              "      <td>0.00</td>\n",
              "      <td>Mighty Mighty Good Games</td>\n",
              "      <td>4+</td>\n",
              "      <td>DA, NL, EN, FI, FR, DE, IT, JA, KO, NB, PL, PT...</td>\n",
              "      <td>21552128.00</td>\n",
              "      <td>Games</td>\n",
              "      <td>Games, Strategy, Puzzle</td>\n",
              "      <td>23/07/2008</td>\n",
              "      <td>30/05/2017</td>\n",
              "      <td>17.00</td>\n",
              "    </tr>\n",
              "    <tr>\n",
              "      <th>285831220</th>\n",
              "      <td>Senet Deluxe</td>\n",
              "      <td>3.50</td>\n",
              "      <td>28.00</td>\n",
              "      <td>2.99</td>\n",
              "      <td>RoGame Software</td>\n",
              "      <td>4+</td>\n",
              "      <td>DA, NL, EN, FR, DE, EL, IT, JA, KO, NO, PT, RU...</td>\n",
              "      <td>34689024.00</td>\n",
              "      <td>Games</td>\n",
              "      <td>Games, Strategy, Board, Education</td>\n",
              "      <td>18/07/2008</td>\n",
              "      <td>22/07/2018</td>\n",
              "      <td>15.00</td>\n",
              "    </tr>\n",
              "  </tbody>\n",
              "</table>\n",
              "</div>"
            ],
            "text/plain": [
              "                    name  ...  num_lang\n",
              "ID                        ...          \n",
              "284921427         Sudoku  ...     17.00\n",
              "284926400        Reversi  ...      1.00\n",
              "284946595        Morocco  ...      1.00\n",
              "285755462  Sudoku (Free)  ...     17.00\n",
              "285831220   Senet Deluxe  ...     15.00\n",
              "\n",
              "[5 rows x 13 columns]"
            ]
          },
          "metadata": {
            "tags": []
          },
          "execution_count": 110
        }
      ]
    },
    {
      "cell_type": "code",
      "metadata": {
        "id": "_zw5__Pk26HZ",
        "colab_type": "code",
        "colab": {
          "base_uri": "https://localhost:8080/",
          "height": 127
        },
        "outputId": "b7a7d19c-2679-40fc-c281-9bbce1cfc970"
      },
      "source": [
        "df['num_lang'].value_counts().nlargest(5)"
      ],
      "execution_count": 111,
      "outputs": [
        {
          "output_type": "execute_result",
          "data": {
            "text/plain": [
              "1.00     12566\n",
              "2.00      1102\n",
              "3.00       495\n",
              "16.00      316\n",
              "4.00       261\n",
              "Name: num_lang, dtype: int64"
            ]
          },
          "metadata": {
            "tags": []
          },
          "execution_count": 111
        }
      ]
    },
    {
      "cell_type": "code",
      "metadata": {
        "id": "ARzt4IFr3DvN",
        "colab_type": "code",
        "colab": {
          "base_uri": "https://localhost:8080/",
          "height": 384
        },
        "outputId": "8f2ef0c8-611e-4de9-f656-9498219a6ce8"
      },
      "source": [
        "df.info()"
      ],
      "execution_count": 112,
      "outputs": [
        {
          "output_type": "stream",
          "text": [
            "<class 'pandas.core.frame.DataFrame'>\n",
            "Int64Index: 17007 entries, 284921427 to 1475076711\n",
            "Data columns (total 13 columns):\n",
            " #   Column                        Non-Null Count  Dtype  \n",
            "---  ------                        --------------  -----  \n",
            " 0   name                          17007 non-null  object \n",
            " 1   average_user_rating           7561 non-null   float64\n",
            " 2   user_rating_count             7561 non-null   float64\n",
            " 3   price                         16983 non-null  float64\n",
            " 4   developer                     17007 non-null  object \n",
            " 5   age_rating                    17007 non-null  object \n",
            " 6   languages                     16947 non-null  object \n",
            " 7   size                          17006 non-null  float64\n",
            " 8   primary_genre                 17007 non-null  object \n",
            " 9   genres                        17007 non-null  object \n",
            " 10  original_release_date         17007 non-null  object \n",
            " 11  current_version_release_date  17007 non-null  object \n",
            " 12  num_lang                      16947 non-null  float64\n",
            "dtypes: float64(5), object(8)\n",
            "memory usage: 1.8+ MB\n"
          ],
          "name": "stdout"
        }
      ]
    },
    {
      "cell_type": "code",
      "metadata": {
        "id": "eCgoWDYL3O98",
        "colab_type": "code",
        "colab": {
          "base_uri": "https://localhost:8080/",
          "height": 201
        },
        "outputId": "2550b8c2-b0ad-4832-90c5-adf8f6e75064"
      },
      "source": [
        "df['average_user_rating'].value_counts()"
      ],
      "execution_count": 113,
      "outputs": [
        {
          "output_type": "execute_result",
          "data": {
            "text/plain": [
              "4.50    2861\n",
              "4.00    1722\n",
              "5.00     990\n",
              "3.50     925\n",
              "3.00     514\n",
              "2.50     317\n",
              "2.00     158\n",
              "1.50      60\n",
              "1.00      14\n",
              "Name: average_user_rating, dtype: int64"
            ]
          },
          "metadata": {
            "tags": []
          },
          "execution_count": 113
        }
      ]
    },
    {
      "cell_type": "code",
      "metadata": {
        "id": "Dgw1X5mL3inQ",
        "colab_type": "code",
        "colab": {
          "base_uri": "https://localhost:8080/",
          "height": 219
        },
        "outputId": "0132ea73-617b-47d6-b1fe-d03fcd1285ca"
      },
      "source": [
        "df['average_user_rating'].value_counts(dropna=False)"
      ],
      "execution_count": 114,
      "outputs": [
        {
          "output_type": "execute_result",
          "data": {
            "text/plain": [
              "nan     9446\n",
              "4.50    2861\n",
              "4.00    1722\n",
              "5.00     990\n",
              "3.50     925\n",
              "3.00     514\n",
              "2.50     317\n",
              "2.00     158\n",
              "1.50      60\n",
              "1.00      14\n",
              "Name: average_user_rating, dtype: int64"
            ]
          },
          "metadata": {
            "tags": []
          },
          "execution_count": 114
        }
      ]
    },
    {
      "cell_type": "code",
      "metadata": {
        "id": "FAdMEShV30Df",
        "colab_type": "code",
        "colab": {
          "base_uri": "https://localhost:8080/",
          "height": 455
        },
        "outputId": "b70cbc8e-3f6e-4b56-b036-f22cf198bd17"
      },
      "source": [
        "df.isnull()"
      ],
      "execution_count": 115,
      "outputs": [
        {
          "output_type": "execute_result",
          "data": {
            "text/html": [
              "<div>\n",
              "<style scoped>\n",
              "    .dataframe tbody tr th:only-of-type {\n",
              "        vertical-align: middle;\n",
              "    }\n",
              "\n",
              "    .dataframe tbody tr th {\n",
              "        vertical-align: top;\n",
              "    }\n",
              "\n",
              "    .dataframe thead th {\n",
              "        text-align: right;\n",
              "    }\n",
              "</style>\n",
              "<table border=\"1\" class=\"dataframe\">\n",
              "  <thead>\n",
              "    <tr style=\"text-align: right;\">\n",
              "      <th></th>\n",
              "      <th>name</th>\n",
              "      <th>average_user_rating</th>\n",
              "      <th>user_rating_count</th>\n",
              "      <th>price</th>\n",
              "      <th>developer</th>\n",
              "      <th>age_rating</th>\n",
              "      <th>languages</th>\n",
              "      <th>size</th>\n",
              "      <th>primary_genre</th>\n",
              "      <th>genres</th>\n",
              "      <th>original_release_date</th>\n",
              "      <th>current_version_release_date</th>\n",
              "      <th>num_lang</th>\n",
              "    </tr>\n",
              "    <tr>\n",
              "      <th>ID</th>\n",
              "      <th></th>\n",
              "      <th></th>\n",
              "      <th></th>\n",
              "      <th></th>\n",
              "      <th></th>\n",
              "      <th></th>\n",
              "      <th></th>\n",
              "      <th></th>\n",
              "      <th></th>\n",
              "      <th></th>\n",
              "      <th></th>\n",
              "      <th></th>\n",
              "      <th></th>\n",
              "    </tr>\n",
              "  </thead>\n",
              "  <tbody>\n",
              "    <tr>\n",
              "      <th>284921427</th>\n",
              "      <td>False</td>\n",
              "      <td>False</td>\n",
              "      <td>False</td>\n",
              "      <td>False</td>\n",
              "      <td>False</td>\n",
              "      <td>False</td>\n",
              "      <td>False</td>\n",
              "      <td>False</td>\n",
              "      <td>False</td>\n",
              "      <td>False</td>\n",
              "      <td>False</td>\n",
              "      <td>False</td>\n",
              "      <td>False</td>\n",
              "    </tr>\n",
              "    <tr>\n",
              "      <th>284926400</th>\n",
              "      <td>False</td>\n",
              "      <td>False</td>\n",
              "      <td>False</td>\n",
              "      <td>False</td>\n",
              "      <td>False</td>\n",
              "      <td>False</td>\n",
              "      <td>False</td>\n",
              "      <td>False</td>\n",
              "      <td>False</td>\n",
              "      <td>False</td>\n",
              "      <td>False</td>\n",
              "      <td>False</td>\n",
              "      <td>False</td>\n",
              "    </tr>\n",
              "    <tr>\n",
              "      <th>284946595</th>\n",
              "      <td>False</td>\n",
              "      <td>False</td>\n",
              "      <td>False</td>\n",
              "      <td>False</td>\n",
              "      <td>False</td>\n",
              "      <td>False</td>\n",
              "      <td>False</td>\n",
              "      <td>False</td>\n",
              "      <td>False</td>\n",
              "      <td>False</td>\n",
              "      <td>False</td>\n",
              "      <td>False</td>\n",
              "      <td>False</td>\n",
              "    </tr>\n",
              "    <tr>\n",
              "      <th>285755462</th>\n",
              "      <td>False</td>\n",
              "      <td>False</td>\n",
              "      <td>False</td>\n",
              "      <td>False</td>\n",
              "      <td>False</td>\n",
              "      <td>False</td>\n",
              "      <td>False</td>\n",
              "      <td>False</td>\n",
              "      <td>False</td>\n",
              "      <td>False</td>\n",
              "      <td>False</td>\n",
              "      <td>False</td>\n",
              "      <td>False</td>\n",
              "    </tr>\n",
              "    <tr>\n",
              "      <th>285831220</th>\n",
              "      <td>False</td>\n",
              "      <td>False</td>\n",
              "      <td>False</td>\n",
              "      <td>False</td>\n",
              "      <td>False</td>\n",
              "      <td>False</td>\n",
              "      <td>False</td>\n",
              "      <td>False</td>\n",
              "      <td>False</td>\n",
              "      <td>False</td>\n",
              "      <td>False</td>\n",
              "      <td>False</td>\n",
              "      <td>False</td>\n",
              "    </tr>\n",
              "    <tr>\n",
              "      <th>...</th>\n",
              "      <td>...</td>\n",
              "      <td>...</td>\n",
              "      <td>...</td>\n",
              "      <td>...</td>\n",
              "      <td>...</td>\n",
              "      <td>...</td>\n",
              "      <td>...</td>\n",
              "      <td>...</td>\n",
              "      <td>...</td>\n",
              "      <td>...</td>\n",
              "      <td>...</td>\n",
              "      <td>...</td>\n",
              "      <td>...</td>\n",
              "    </tr>\n",
              "    <tr>\n",
              "      <th>1474626442</th>\n",
              "      <td>False</td>\n",
              "      <td>True</td>\n",
              "      <td>True</td>\n",
              "      <td>False</td>\n",
              "      <td>False</td>\n",
              "      <td>False</td>\n",
              "      <td>False</td>\n",
              "      <td>False</td>\n",
              "      <td>False</td>\n",
              "      <td>False</td>\n",
              "      <td>False</td>\n",
              "      <td>False</td>\n",
              "      <td>False</td>\n",
              "    </tr>\n",
              "    <tr>\n",
              "      <th>1474919257</th>\n",
              "      <td>False</td>\n",
              "      <td>True</td>\n",
              "      <td>True</td>\n",
              "      <td>False</td>\n",
              "      <td>False</td>\n",
              "      <td>False</td>\n",
              "      <td>False</td>\n",
              "      <td>False</td>\n",
              "      <td>False</td>\n",
              "      <td>False</td>\n",
              "      <td>False</td>\n",
              "      <td>False</td>\n",
              "      <td>False</td>\n",
              "    </tr>\n",
              "    <tr>\n",
              "      <th>1474962324</th>\n",
              "      <td>False</td>\n",
              "      <td>True</td>\n",
              "      <td>True</td>\n",
              "      <td>False</td>\n",
              "      <td>False</td>\n",
              "      <td>False</td>\n",
              "      <td>False</td>\n",
              "      <td>False</td>\n",
              "      <td>False</td>\n",
              "      <td>False</td>\n",
              "      <td>False</td>\n",
              "      <td>False</td>\n",
              "      <td>False</td>\n",
              "    </tr>\n",
              "    <tr>\n",
              "      <th>1474963671</th>\n",
              "      <td>False</td>\n",
              "      <td>True</td>\n",
              "      <td>True</td>\n",
              "      <td>False</td>\n",
              "      <td>False</td>\n",
              "      <td>False</td>\n",
              "      <td>False</td>\n",
              "      <td>False</td>\n",
              "      <td>False</td>\n",
              "      <td>False</td>\n",
              "      <td>False</td>\n",
              "      <td>False</td>\n",
              "      <td>False</td>\n",
              "    </tr>\n",
              "    <tr>\n",
              "      <th>1475076711</th>\n",
              "      <td>False</td>\n",
              "      <td>True</td>\n",
              "      <td>True</td>\n",
              "      <td>False</td>\n",
              "      <td>False</td>\n",
              "      <td>False</td>\n",
              "      <td>False</td>\n",
              "      <td>False</td>\n",
              "      <td>False</td>\n",
              "      <td>False</td>\n",
              "      <td>False</td>\n",
              "      <td>False</td>\n",
              "      <td>False</td>\n",
              "    </tr>\n",
              "  </tbody>\n",
              "</table>\n",
              "<p>17007 rows × 13 columns</p>\n",
              "</div>"
            ],
            "text/plain": [
              "             name  average_user_rating  ...  current_version_release_date  num_lang\n",
              "ID                                      ...                                        \n",
              "284921427   False                False  ...                         False     False\n",
              "284926400   False                False  ...                         False     False\n",
              "284946595   False                False  ...                         False     False\n",
              "285755462   False                False  ...                         False     False\n",
              "285831220   False                False  ...                         False     False\n",
              "...           ...                  ...  ...                           ...       ...\n",
              "1474626442  False                 True  ...                         False     False\n",
              "1474919257  False                 True  ...                         False     False\n",
              "1474962324  False                 True  ...                         False     False\n",
              "1474963671  False                 True  ...                         False     False\n",
              "1475076711  False                 True  ...                         False     False\n",
              "\n",
              "[17007 rows x 13 columns]"
            ]
          },
          "metadata": {
            "tags": []
          },
          "execution_count": 115
        }
      ]
    },
    {
      "cell_type": "code",
      "metadata": {
        "id": "XLzj98L13-BC",
        "colab_type": "code",
        "colab": {
          "base_uri": "https://localhost:8080/",
          "height": 274
        },
        "outputId": "e2b10247-1374-4ed2-960f-c178791c7987"
      },
      "source": [
        "df.isnull().sum()"
      ],
      "execution_count": 116,
      "outputs": [
        {
          "output_type": "execute_result",
          "data": {
            "text/plain": [
              "name                               0\n",
              "average_user_rating             9446\n",
              "user_rating_count               9446\n",
              "price                             24\n",
              "developer                          0\n",
              "age_rating                         0\n",
              "languages                         60\n",
              "size                               1\n",
              "primary_genre                      0\n",
              "genres                             0\n",
              "original_release_date              0\n",
              "current_version_release_date       0\n",
              "num_lang                          60\n",
              "dtype: int64"
            ]
          },
          "metadata": {
            "tags": []
          },
          "execution_count": 116
        }
      ]
    },
    {
      "cell_type": "code",
      "metadata": {
        "id": "GJv6stUc4jDv",
        "colab_type": "code",
        "colab": {
          "base_uri": "https://localhost:8080/",
          "height": 274
        },
        "outputId": "8a467832-8e57-4d2d-a21f-2a46f0761bb2"
      },
      "source": [
        "df.dropna().isnull().sum()"
      ],
      "execution_count": 118,
      "outputs": [
        {
          "output_type": "execute_result",
          "data": {
            "text/plain": [
              "name                            0\n",
              "average_user_rating             0\n",
              "user_rating_count               0\n",
              "price                           0\n",
              "developer                       0\n",
              "age_rating                      0\n",
              "languages                       0\n",
              "size                            0\n",
              "primary_genre                   0\n",
              "genres                          0\n",
              "original_release_date           0\n",
              "current_version_release_date    0\n",
              "num_lang                        0\n",
              "dtype: int64"
            ]
          },
          "metadata": {
            "tags": []
          },
          "execution_count": 118
        }
      ]
    },
    {
      "cell_type": "code",
      "metadata": {
        "id": "4DXlLFOg5nGu",
        "colab_type": "code",
        "colab": {
          "base_uri": "https://localhost:8080/",
          "height": 384
        },
        "outputId": "c8de0929-a58a-42ec-c2d5-4e7dcf473079"
      },
      "source": [
        "df = df.dropna()\n",
        "df.info()"
      ],
      "execution_count": 119,
      "outputs": [
        {
          "output_type": "stream",
          "text": [
            "<class 'pandas.core.frame.DataFrame'>\n",
            "Int64Index: 7537 entries, 284921427 to 1474461379\n",
            "Data columns (total 13 columns):\n",
            " #   Column                        Non-Null Count  Dtype  \n",
            "---  ------                        --------------  -----  \n",
            " 0   name                          7537 non-null   object \n",
            " 1   average_user_rating           7537 non-null   float64\n",
            " 2   user_rating_count             7537 non-null   float64\n",
            " 3   price                         7537 non-null   float64\n",
            " 4   developer                     7537 non-null   object \n",
            " 5   age_rating                    7537 non-null   object \n",
            " 6   languages                     7537 non-null   object \n",
            " 7   size                          7537 non-null   float64\n",
            " 8   primary_genre                 7537 non-null   object \n",
            " 9   genres                        7537 non-null   object \n",
            " 10  original_release_date         7537 non-null   object \n",
            " 11  current_version_release_date  7537 non-null   object \n",
            " 12  num_lang                      7537 non-null   float64\n",
            "dtypes: float64(5), object(8)\n",
            "memory usage: 824.4+ KB\n"
          ],
          "name": "stdout"
        }
      ]
    },
    {
      "cell_type": "code",
      "metadata": {
        "id": "xJOMsDZT5yl7",
        "colab_type": "code",
        "colab": {}
      },
      "source": [
        ""
      ],
      "execution_count": null,
      "outputs": []
    }
  ]
}